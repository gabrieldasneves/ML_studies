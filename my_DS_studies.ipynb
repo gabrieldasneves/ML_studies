{
  "nbformat": 4,
  "nbformat_minor": 0,
  "metadata": {
    "colab": {
      "name": "my_DS_studies.ipynb",
      "provenance": [],
      "collapsed_sections": [],
      "authorship_tag": "ABX9TyP0buQmp0n3SEmmPQJ0l3z+",
      "include_colab_link": true
    },
    "kernelspec": {
      "name": "python3",
      "display_name": "Python 3"
    },
    "language_info": {
      "name": "python"
    }
  },
  "cells": [
    {
      "cell_type": "markdown",
      "metadata": {
        "id": "view-in-github",
        "colab_type": "text"
      },
      "source": [
        "<a href=\"https://colab.research.google.com/github/gabrieldasneves/ML_studies/blob/master/my_DS_studies.ipynb\" target=\"_parent\"><img src=\"https://colab.research.google.com/assets/colab-badge.svg\" alt=\"Open In Colab\"/></a>"
      ]
    },
    {
      "cell_type": "markdown",
      "metadata": {
        "id": "Bj5D3cNHWTiy"
      },
      "source": [
        "##Introdução ao Numpy\n",
        "\n",
        "Biblioteca voltada para a manipulação de matrizes. Contém um conjunto de métodos e funções para trabalhar sobre os `arrays`."
      ]
    },
    {
      "cell_type": "markdown",
      "metadata": {
        "id": "iJcgfaVyWeof"
      },
      "source": [
        "Importando:\n"
      ]
    },
    {
      "cell_type": "code",
      "metadata": {
        "id": "ayY8MJCuWhr5"
      },
      "source": [
        "import numpy as np"
      ],
      "execution_count": 2,
      "outputs": []
    },
    {
      "cell_type": "markdown",
      "metadata": {
        "id": "vp2nHhT_Wv1p"
      },
      "source": [
        "#Trabalhando com vetores:"
      ]
    },
    {
      "cell_type": "code",
      "metadata": {
        "colab": {
          "base_uri": "https://localhost:8080/"
        },
        "id": "SCpjZf67WyFq",
        "outputId": "26b5bb70-0592-44f0-8645-2041376df899"
      },
      "source": [
        "np.array([1,2,3,4,5,6])"
      ],
      "execution_count": 4,
      "outputs": [
        {
          "output_type": "execute_result",
          "data": {
            "text/plain": [
              "array([1, 2, 3, 4, 5, 6])"
            ]
          },
          "metadata": {
            "tags": []
          },
          "execution_count": 4
        }
      ]
    },
    {
      "cell_type": "code",
      "metadata": {
        "colab": {
          "base_uri": "https://localhost:8080/"
        },
        "id": "88H1s2BUXciw",
        "outputId": "097b4096-9170-4e5d-a964-32fe6f4e4550"
      },
      "source": [
        "np.ones(5)\n"
      ],
      "execution_count": 8,
      "outputs": [
        {
          "output_type": "execute_result",
          "data": {
            "text/plain": [
              "array([1., 1., 1., 1., 1.])"
            ]
          },
          "metadata": {
            "tags": []
          },
          "execution_count": 8
        }
      ]
    },
    {
      "cell_type": "code",
      "metadata": {
        "colab": {
          "base_uri": "https://localhost:8080/"
        },
        "id": "P1_xIxhqX8Ch",
        "outputId": "b9e2af32-ba48-41b8-abbc-adcbb3dc470f"
      },
      "source": [
        "np.zeros(5) #tem outras funções predefinidas para criar vetores também"
      ],
      "execution_count": 9,
      "outputs": [
        {
          "output_type": "execute_result",
          "data": {
            "text/plain": [
              "array([0., 0., 0., 0., 0.])"
            ]
          },
          "metadata": {
            "tags": []
          },
          "execution_count": 9
        }
      ]
    },
    {
      "cell_type": "markdown",
      "metadata": {
        "id": "Qh_NBiH_YXYx"
      },
      "source": [
        "método shape:"
      ]
    },
    {
      "cell_type": "code",
      "metadata": {
        "colab": {
          "base_uri": "https://localhost:8080/"
        },
        "id": "ew1rAg_FYf_a",
        "outputId": "7d2318de-ee55-404e-ca90-e529d0a0a43b"
      },
      "source": [
        "vector = np.array([3,3,3,3,3])\n",
        "vector.shape"
      ],
      "execution_count": 14,
      "outputs": [
        {
          "output_type": "execute_result",
          "data": {
            "text/plain": [
              "(5,)"
            ]
          },
          "metadata": {
            "tags": []
          },
          "execution_count": 14
        }
      ]
    },
    {
      "cell_type": "markdown",
      "metadata": {
        "id": "wcuFW4SsZJLX"
      },
      "source": [
        "Operações algébricas:"
      ]
    },
    {
      "cell_type": "code",
      "metadata": {
        "id": "egH0LZBSZMep"
      },
      "source": [
        "ex =  np.array([2,4,6,8,10])\n"
      ],
      "execution_count": 15,
      "outputs": []
    },
    {
      "cell_type": "code",
      "metadata": {
        "id": "0tOtROk7ZYwg",
        "outputId": "6e1e6f4f-256e-4295-a4a0-cf7e4723ae1a",
        "colab": {
          "base_uri": "https://localhost:8080/"
        }
      },
      "source": [
        "ex*5"
      ],
      "execution_count": 16,
      "outputs": [
        {
          "output_type": "execute_result",
          "data": {
            "text/plain": [
              "array([10, 20, 30, 40, 50])"
            ]
          },
          "metadata": {
            "tags": []
          },
          "execution_count": 16
        }
      ]
    },
    {
      "cell_type": "code",
      "metadata": {
        "id": "-ycgS-fFZdaf",
        "outputId": "21e2cfd8-a558-4371-9d4e-9962a4c22f5e",
        "colab": {
          "base_uri": "https://localhost:8080/"
        }
      },
      "source": [
        "ex/2"
      ],
      "execution_count": 17,
      "outputs": [
        {
          "output_type": "execute_result",
          "data": {
            "text/plain": [
              "array([1., 2., 3., 4., 5.])"
            ]
          },
          "metadata": {
            "tags": []
          },
          "execution_count": 17
        }
      ]
    },
    {
      "cell_type": "code",
      "metadata": {
        "id": "NpemY3A8Zj0b",
        "outputId": "720cade5-0b5a-48f4-a411-d99e38d66cee",
        "colab": {
          "base_uri": "https://localhost:8080/"
        }
      },
      "source": [
        "100/ex # e assim vai...."
      ],
      "execution_count": 19,
      "outputs": [
        {
          "output_type": "execute_result",
          "data": {
            "text/plain": [
              "array([50.        , 25.        , 16.66666667, 12.5       , 10.        ])"
            ]
          },
          "metadata": {
            "tags": []
          },
          "execution_count": 19
        }
      ]
    },
    {
      "cell_type": "markdown",
      "metadata": {
        "id": "PFoDYocBZrHQ"
      },
      "source": [
        "Alguns métodos prontos de vetores que são úteis "
      ]
    },
    {
      "cell_type": "code",
      "metadata": {
        "id": "v33yRlqna68A",
        "outputId": "08142074-c0d7-427d-eecb-03a8cf07580f",
        "colab": {
          "base_uri": "https://localhost:8080/"
        }
      },
      "source": [
        "\n",
        "ex.shape\n"
      ],
      "execution_count": 22,
      "outputs": [
        {
          "output_type": "execute_result",
          "data": {
            "text/plain": [
              "(5,)"
            ]
          },
          "metadata": {
            "tags": []
          },
          "execution_count": 22
        }
      ]
    },
    {
      "cell_type": "code",
      "metadata": {
        "id": "8QJ0LfMjbBLv",
        "outputId": "5e3e06dd-e4fb-4578-f7b0-ce8f3362bbfc",
        "colab": {
          "base_uri": "https://localhost:8080/"
        }
      },
      "source": [
        "\n",
        "ex.mean()\n",
        "# e por ai vai..."
      ],
      "execution_count": 25,
      "outputs": [
        {
          "output_type": "execute_result",
          "data": {
            "text/plain": [
              "6.0"
            ]
          },
          "metadata": {
            "tags": []
          },
          "execution_count": 25
        }
      ]
    },
    {
      "cell_type": "markdown",
      "metadata": {
        "id": "vu_aIOfpbpMS"
      },
      "source": [
        "#Matrizes"
      ]
    },
    {
      "cell_type": "markdown",
      "metadata": {
        "id": "gqY_HzB6brkH"
      },
      "source": [
        "##Matrizes são apenas vetores, só que com N dimensões"
      ]
    },
    {
      "cell_type": "markdown",
      "metadata": {
        "id": "-ra5ZRYnbJZX"
      },
      "source": [
        "Criando arrays multidimensionais:"
      ]
    },
    {
      "cell_type": "code",
      "metadata": {
        "id": "nSLawoFSbYHY",
        "outputId": "c8023c0a-babd-4e12-b93e-45c2555fbc9a",
        "colab": {
          "base_uri": "https://localhost:8080/"
        }
      },
      "source": [
        "np.array([[1,2,3], [4,5,6],[7,8,9]])"
      ],
      "execution_count": 28,
      "outputs": [
        {
          "output_type": "execute_result",
          "data": {
            "text/plain": [
              "array([[1, 2, 3],\n",
              "       [4, 5, 6],\n",
              "       [7, 8, 9]])"
            ]
          },
          "metadata": {
            "tags": []
          },
          "execution_count": 28
        }
      ]
    },
    {
      "cell_type": "markdown",
      "metadata": {
        "id": "YkgfvCgXbjHY"
      },
      "source": [
        "Curiosidade: é assim que se cria a matriz identidade:"
      ]
    },
    {
      "cell_type": "code",
      "metadata": {
        "id": "qzPceR15cUmh",
        "outputId": "9a8fa5f7-d5af-4fa1-b09e-40efb9813b5a",
        "colab": {
          "base_uri": "https://localhost:8080/"
        }
      },
      "source": [
        "np.eye(5)"
      ],
      "execution_count": 30,
      "outputs": [
        {
          "output_type": "execute_result",
          "data": {
            "text/plain": [
              "array([[1., 0., 0., 0., 0.],\n",
              "       [0., 1., 0., 0., 0.],\n",
              "       [0., 0., 1., 0., 0.],\n",
              "       [0., 0., 0., 1., 0.],\n",
              "       [0., 0., 0., 0., 1.]])"
            ]
          },
          "metadata": {
            "tags": []
          },
          "execution_count": 30
        }
      ]
    },
    {
      "cell_type": "markdown",
      "metadata": {
        "id": "GVKcHCMUcpO8"
      },
      "source": [
        "Assim se obtém a transposta:"
      ]
    },
    {
      "cell_type": "code",
      "metadata": {
        "id": "IDkjRl2NcsDJ",
        "outputId": "281a828c-534b-4f99-fdd6-8f5a43a81752",
        "colab": {
          "base_uri": "https://localhost:8080/"
        }
      },
      "source": [
        "np.array([[1,2,3], [4,5,6],[7,8,9]]).T # com o T no final"
      ],
      "execution_count": 32,
      "outputs": [
        {
          "output_type": "execute_result",
          "data": {
            "text/plain": [
              "array([[1, 4, 7],\n",
              "       [2, 5, 8],\n",
              "       [3, 6, 9]])"
            ]
          },
          "metadata": {
            "tags": []
          },
          "execution_count": 32
        }
      ]
    },
    {
      "cell_type": "code",
      "metadata": {
        "id": "G0Cj0vqRd-Ju"
      },
      "source": [
        "algumas funções da algebra linear já estão implementadas no numpy, ex:"
      ],
      "execution_count": null,
      "outputs": []
    },
    {
      "cell_type": "code",
      "metadata": {
        "id": "KY0miFCneF6f",
        "outputId": "beb5d69f-8099-451d-b536-76bcfd89dfd2",
        "colab": {
          "base_uri": "https://localhost:8080/"
        }
      },
      "source": [
        "\n",
        "np.linalg.inv(np.eye(4))"
      ],
      "execution_count": 36,
      "outputs": [
        {
          "output_type": "execute_result",
          "data": {
            "text/plain": [
              "array([[1., 0., 0., 0.],\n",
              "       [0., 1., 0., 0.],\n",
              "       [0., 0., 1., 0.],\n",
              "       [0., 0., 0., 1.]])"
            ]
          },
          "metadata": {
            "tags": []
          },
          "execution_count": 36
        }
      ]
    },
    {
      "cell_type": "markdown",
      "metadata": {
        "id": "6KYHvdktd9mo"
      },
      "source": [
        ""
      ]
    }
  ]
}